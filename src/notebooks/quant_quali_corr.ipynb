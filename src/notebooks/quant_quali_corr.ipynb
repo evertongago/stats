{
 "cells": [
  {
   "cell_type": "code",
   "execution_count": 14,
   "metadata": {},
   "outputs": [],
   "source": [
    "import numpy\n",
    "import pandas\n",
    "import matplotlib.pyplot as plt\n",
    "\n",
    "%matplotlib inline"
   ]
  },
  {
   "cell_type": "code",
   "execution_count": 19,
   "metadata": {},
   "outputs": [],
   "source": [
    "plt.rcParams['figure.figsize'] = (12, 6)"
   ]
  },
  {
   "cell_type": "code",
   "execution_count": 46,
   "metadata": {},
   "outputs": [
    {
     "data": {
      "text/html": [
       "<div>\n",
       "<style scoped>\n",
       "    .dataframe tbody tr th:only-of-type {\n",
       "        vertical-align: middle;\n",
       "    }\n",
       "\n",
       "    .dataframe tbody tr th {\n",
       "        vertical-align: top;\n",
       "    }\n",
       "\n",
       "    .dataframe thead th {\n",
       "        text-align: right;\n",
       "    }\n",
       "</style>\n",
       "<table border=\"1\" class=\"dataframe\">\n",
       "  <thead>\n",
       "    <tr style=\"text-align: right;\">\n",
       "      <th></th>\n",
       "      <th>nome</th>\n",
       "      <th>grau_instrucao</th>\n",
       "      <th>salario</th>\n",
       "    </tr>\n",
       "  </thead>\n",
       "  <tbody>\n",
       "    <tr>\n",
       "      <th>0</th>\n",
       "      <td>João</td>\n",
       "      <td>Fundamental</td>\n",
       "      <td>1000</td>\n",
       "    </tr>\n",
       "    <tr>\n",
       "      <th>1</th>\n",
       "      <td>José</td>\n",
       "      <td>Fundamental</td>\n",
       "      <td>1100</td>\n",
       "    </tr>\n",
       "    <tr>\n",
       "      <th>3</th>\n",
       "      <td>Thiago</td>\n",
       "      <td>Fundamental</td>\n",
       "      <td>1800</td>\n",
       "    </tr>\n",
       "    <tr>\n",
       "      <th>9</th>\n",
       "      <td>Miguel</td>\n",
       "      <td>Medio</td>\n",
       "      <td>1750</td>\n",
       "    </tr>\n",
       "    <tr>\n",
       "      <th>6</th>\n",
       "      <td>Guilherme</td>\n",
       "      <td>Medio</td>\n",
       "      <td>1800</td>\n",
       "    </tr>\n",
       "    <tr>\n",
       "      <th>8</th>\n",
       "      <td>Paulo</td>\n",
       "      <td>Medio</td>\n",
       "      <td>2300</td>\n",
       "    </tr>\n",
       "    <tr>\n",
       "      <th>2</th>\n",
       "      <td>Pedro</td>\n",
       "      <td>Superior</td>\n",
       "      <td>2200</td>\n",
       "    </tr>\n",
       "    <tr>\n",
       "      <th>7</th>\n",
       "      <td>Fernando</td>\n",
       "      <td>Superior</td>\n",
       "      <td>2400</td>\n",
       "    </tr>\n",
       "    <tr>\n",
       "      <th>5</th>\n",
       "      <td>Felipe</td>\n",
       "      <td>Superior</td>\n",
       "      <td>2500</td>\n",
       "    </tr>\n",
       "    <tr>\n",
       "      <th>4</th>\n",
       "      <td>Matheus</td>\n",
       "      <td>Superior</td>\n",
       "      <td>3000</td>\n",
       "    </tr>\n",
       "  </tbody>\n",
       "</table>\n",
       "</div>"
      ],
      "text/plain": [
       "        nome grau_instrucao  salario\n",
       "0       João    Fundamental     1000\n",
       "1       José    Fundamental     1100\n",
       "3     Thiago    Fundamental     1800\n",
       "9     Miguel          Medio     1750\n",
       "6  Guilherme          Medio     1800\n",
       "8      Paulo          Medio     2300\n",
       "2      Pedro       Superior     2200\n",
       "7   Fernando       Superior     2400\n",
       "5     Felipe       Superior     2500\n",
       "4    Matheus       Superior     3000"
      ]
     },
     "execution_count": 46,
     "metadata": {},
     "output_type": "execute_result"
    }
   ],
   "source": [
    "data = {\n",
    "    'nome': ['João', 'José', 'Pedro', 'Thiago', 'Matheus', 'Felipe', 'Guilherme', 'Fernando', 'Paulo', 'Miguel'],\n",
    "    'grau_instrucao': ['Fundamental', 'Fundamental', 'Superior', 'Fundamental', 'Superior', 'Superior', 'Medio', 'Superior', 'Medio', 'Medio'],\n",
    "    'salario': [1000, 1100, 2200, 1800, 3000, 2500, 1800, 2400, 2300, 1750]\n",
    "}\n",
    "\n",
    "df = pandas.DataFrame(data)\n",
    "df.sort_values(by=['grau_instrucao', 'salario'], ascending=True).head(10)"
   ]
  },
  {
   "cell_type": "code",
   "execution_count": 47,
   "metadata": {},
   "outputs": [
    {
     "data": {
      "image/png": "[encoded data removed]",
      "text/plain": [
       "<Figure size 864x432 with 1 Axes>"
      ]
     },
     "metadata": {
      "needs_background": "light"
     },
     "output_type": "display_data"
    }
   ],
   "source": [
    "data = [\n",
    "    df[df['grau_instrucao'] == 'Fundamental'].salario.values,\n",
    "    df[df['grau_instrucao'] == 'Medio'].salario.values,\n",
    "    df[df['grau_instrucao'] == 'Superior'].salario.values,\n",
    "]\n",
    "\n",
    "plt.boxplot(data)\n",
    "plt.show()"
   ]
  },
  {
   "cell_type": "markdown",
   "metadata": {},
   "source": [
    "<img src=\"../imgs/quant_quali.png\">"
   ]
  },
  {
   "cell_type": "markdown",
   "metadata": {},
   "source": [
    "<img src=\"../imgs/quant_quali_detail.png\">"
   ]
  },
  {
   "cell_type": "code",
   "execution_count": 48,
   "metadata": {},
   "outputs": [
    {
     "data": {
      "text/html": [
       "<div>\n",
       "<style scoped>\n",
       "    .dataframe tbody tr th:only-of-type {\n",
       "        vertical-align: middle;\n",
       "    }\n",
       "\n",
       "    .dataframe tbody tr th {\n",
       "        vertical-align: top;\n",
       "    }\n",
       "\n",
       "    .dataframe thead tr th {\n",
       "        text-align: left;\n",
       "    }\n",
       "\n",
       "    .dataframe thead tr:last-of-type th {\n",
       "        text-align: right;\n",
       "    }\n",
       "</style>\n",
       "<table border=\"1\" class=\"dataframe\">\n",
       "  <thead>\n",
       "    <tr>\n",
       "      <th></th>\n",
       "      <th colspan=\"4\" halign=\"left\">salario</th>\n",
       "    </tr>\n",
       "    <tr>\n",
       "      <th></th>\n",
       "      <th>count</th>\n",
       "      <th>mean</th>\n",
       "      <th>std</th>\n",
       "      <th>var</th>\n",
       "    </tr>\n",
       "    <tr>\n",
       "      <th>grau_instrucao</th>\n",
       "      <th></th>\n",
       "      <th></th>\n",
       "      <th></th>\n",
       "      <th></th>\n",
       "    </tr>\n",
       "  </thead>\n",
       "  <tbody>\n",
       "    <tr>\n",
       "      <th>Fundamental</th>\n",
       "      <td>3</td>\n",
       "      <td>1300</td>\n",
       "      <td>435.889894</td>\n",
       "      <td>190000.000000</td>\n",
       "    </tr>\n",
       "    <tr>\n",
       "      <th>Medio</th>\n",
       "      <td>3</td>\n",
       "      <td>1950</td>\n",
       "      <td>304.138127</td>\n",
       "      <td>92500.000000</td>\n",
       "    </tr>\n",
       "    <tr>\n",
       "      <th>Superior</th>\n",
       "      <td>4</td>\n",
       "      <td>2525</td>\n",
       "      <td>340.342964</td>\n",
       "      <td>115833.333333</td>\n",
       "    </tr>\n",
       "  </tbody>\n",
       "</table>\n",
       "</div>"
      ],
      "text/plain": [
       "               salario                                 \n",
       "                 count  mean         std            var\n",
       "grau_instrucao                                         \n",
       "Fundamental          3  1300  435.889894  190000.000000\n",
       "Medio                3  1950  304.138127   92500.000000\n",
       "Superior             4  2525  340.342964  115833.333333"
      ]
     },
     "execution_count": 48,
     "metadata": {},
     "output_type": "execute_result"
    }
   ],
   "source": [
    "agg_df = df.groupby('grau_instrucao').agg(['count', 'mean', 'std', 'var'])\n",
    "agg_df.head()"
   ]
  },
  {
   "cell_type": "code",
   "execution_count": 49,
   "metadata": {},
   "outputs": [
    {
     "data": {
      "text/plain": [
       "3490250.0"
      ]
     },
     "execution_count": 49,
     "metadata": {},
     "output_type": "execute_result"
    }
   ],
   "source": [
    "salario_medio = df['salario'].values.mean()\n",
    "salarios = df['salario'].values\n",
    "variancia_total = ((salarios - salario_medio) * (salarios - salario_medio)).sum()\n",
    "variancia_total"
   ]
  },
  {
   "cell_type": "code",
   "execution_count": 50,
   "metadata": {},
   "outputs": [
    {
     "data": {
      "text/plain": [
       "0.96244299596495"
      ]
     },
     "execution_count": 50,
     "metadata": {},
     "output_type": "execute_result"
    }
   ],
   "source": [
    "variancia_media = (agg_df['salario']['var'].values * agg_df['salario']['count'].values).sum() / agg_df['salario']['count'].values.sum()\n",
    "1 - (variancia_media / variancia_total)"
   ]
  },
  {
   "cell_type": "markdown",
   "metadata": {},
   "source": []
  }
 ],
 "metadata": {
  "kernelspec": {
   "display_name": "Python 3",
   "language": "python",
   "name": "python3"
  },
  "language_info": {
   "codemirror_mode": {
    "name": "ipython",
    "version": 3
   },
   "file_extension": ".py",
   "mimetype": "text/x-python",
   "name": "python",
   "nbconvert_exporter": "python",
   "pygments_lexer": "ipython3",
   "version": "3.7.3"
  }
 },
 "nbformat": 4,
 "nbformat_minor": 2
}
